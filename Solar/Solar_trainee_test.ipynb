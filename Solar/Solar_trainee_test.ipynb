{
  "nbformat": 4,
  "nbformat_minor": 0,
  "metadata": {
    "colab": {
      "name": "Solar_trainee_test.ipynb",
      "provenance": []
    },
    "kernelspec": {
      "name": "python3",
      "display_name": "Python 3"
    },
    "language_info": {
      "name": "python"
    }
  },
  "cells": [
    {
      "cell_type": "markdown",
      "metadata": {
        "id": "zTo9xDE250H0"
      },
      "source": [
        "## Задача №1. Статистический анализ произведения К.И. Чуковского \"Краденое солнце\""
      ]
    },
    {
      "cell_type": "markdown",
      "metadata": {
        "id": "1yG1BSIp_inX"
      },
      "source": [
        "Дано: произведение К.И. Чуковского \"Краденое Солнце\".\n",
        "\n",
        "Построить а.) гистограмму длин слов, б.) соответствующую выборочную функцию распределения и в.) подобрать ближайшее теоретическое нормальное (гауссовское) распределение."
      ]
    },
    {
      "cell_type": "code",
      "metadata": {
        "id": "aBkU146hQ2FF"
      },
      "source": [
        "#Импортируем нужные бибилиотеки\n",
        "import string\n",
        "import pandas as pd\n",
        "import matplotlib.pyplot as plt\n",
        "import scipy\n",
        "import scipy.stats as st\n",
        "import seaborn as sns\n",
        "import numpy as np"
      ],
      "execution_count": 19,
      "outputs": []
    },
    {
      "cell_type": "markdown",
      "metadata": {
        "id": "5dGF41bR59aV"
      },
      "source": [
        "### Подготовка исходных данных"
      ]
    },
    {
      "cell_type": "markdown",
      "metadata": {
        "id": "qqNcZOYw6Gef"
      },
      "source": [
        "Для корректного анализа необходимо удалить все знаки препинания из текста."
      ]
    },
    {
      "cell_type": "code",
      "metadata": {
        "id": "wctuPSnuMlx_"
      },
      "source": [
        "text = ['''Солнце по небу гуляло\n",
        "И за тучу забежало.\n",
        "Глянул заинька в окно,\n",
        "Стало заиньке темно.\n",
        "А сороки-\n",
        "Белобоки\n",
        "Поскакали по полям,\n",
        "Закричали журавлям:\n",
        "«Горе! Горе! Крокодил\n",
        "Солнце в небе проглотил!»\n",
        "Наступила темнота.\n",
        "Не ходи за ворота:\n",
        "Кто на улицу попал —\n",
        "Заблудился и пропал.\n",
        "Плачет серый воробей:\n",
        "«Выйди, солнышко, скорей!\n",
        "Нам без солнышка обидно —\n",
        "В поле зёрнышка не видно!»\n",
        "Плачут зайки\n",
        "На лужайке:\n",
        "Сбились, бедные, с пути,\n",
        "Им до дому не дойти.\n",
        "Только раки пучеглазые\n",
        "По земле во мраке лазают,\n",
        "Да в овраге за горою\n",
        "Волки бешеные воют.\n",
        "Рано-рано\n",
        "Два барана\n",
        "Застучали в ворота:\n",
        "Тра-та-та и тра-та-та!\n",
        "«Эй вы, звери, выходите,\n",
        "Крокодила победите,\n",
        "Чтобы жадный Крокодил\n",
        "Солнце в небо воротил!»\n",
        "Но мохнатые боятся:\n",
        "«Где нам с этаким сражаться!\n",
        "Он и грозен и зубаст,\n",
        "Он нам солнца не отдаст!»\n",
        "И бегут они к Медведю в берлогу:\n",
        "«Выходи-ка ты, Медведь, на подмогу.\n",
        "Полно лапу тебе, лодырю, сосать.\n",
        "Надо солнышко идти выручать!»\n",
        "Но Медведю воевать неохота:\n",
        "Ходит-ходит он, Медведь, круг болота,\n",
        "Он и плачет, Медведь, и ревёт,\n",
        "Медвежат он из болота зовёт:\n",
        "«Ой, куда вы, толстопятые, сгинули?\n",
        "На кого вы меня, старого, кинули?»\n",
        "А в болоте Медведица рыщет,\n",
        "Медвежат под корягами ищет:\n",
        "«Куда вы, куда вы пропали?\n",
        "Или в канаву упали?\n",
        "Или шальные собаки\n",
        "Вас разорвали во мраке?»\n",
        "И весь день она по лесу бродит,\n",
        "Но нигде медвежат не находит.\n",
        "Только чёрные совы из чащи\n",
        "На неё свои очи таращат.\n",
        "Тут зайчиха выходила\n",
        "И Медведю говорила:\n",
        "«Стыдно старому реветь —\n",
        "Ты не заяц, а Медведь.\n",
        "Ты поди-ка, косолапый,\n",
        "Крокодила исцарапай,\n",
        "Разорви его на части,\n",
        "Вырви солнышко из пасти.\n",
        "И когда оно опять\n",
        "Будет на небе сиять,\n",
        "Малыши твои мохнатые,\n",
        "Медвежата толстопятые,\n",
        "Сами к дому прибегут:\n",
        "«Здравствуй, дедушка, мы тут!»\n",
        "И встал\n",
        "Медведь,\n",
        "Зарычал\n",
        "Медведь,\n",
        "И к Большой Реке\n",
        "Побежал\n",
        "Медведь.\n",
        "А в Большой Реке\n",
        "Крокодил\n",
        "Лежит,\n",
        "И в зубах его\n",
        "Не огонь горит, -\n",
        "Солнце красное,\n",
        "Солнце краденое.\n",
        "Подошёл Медведь тихонько,\n",
        "Толканул его легонько:\n",
        "«Говорю тебе, злодей,\n",
        "Выплюнь солнышко скорей!\n",
        "А не то, гляди, поймаю,\n",
        "Пополам переломаю, -\n",
        "Будешь ты, невежа, знать\n",
        "Наше солнце воровать!\n",
        "Ишь разбойничья порода:\n",
        "Цапнул солнце с небосвода\n",
        "И с набитым животом\n",
        "Завалился под кустом\n",
        "Да и хрюкает спросонья,\n",
        "Словно сытая хавронья.\n",
        "Пропадает целый свет,\n",
        "А ему и горя нет!»\n",
        "Но бессовестный смеётся\n",
        "Так, что дерево трясётся:\n",
        "«Если только захочу,\n",
        "И луну я проглочу!»\n",
        "Не стерпел\n",
        "Медведь,\n",
        "Заревел\n",
        "Медведь,\n",
        "И на злого врага\n",
        "Налетел\n",
        "Медведь.\n",
        "Уж он мял его\n",
        "И ломал его:\n",
        "«Подавай сюда\n",
        "Наше солнышко!»\n",
        "Испугался Крокодил,\n",
        "Завопил, заголосил,\n",
        "А из пасти\n",
        "Из зубастой\n",
        "Солнце вывалилось,\n",
        "В небо выкатилось!\n",
        "Побежало по кустам,\n",
        "По берёзовым листам.\n",
        "Здравствуй, солнце золотое!\n",
        "Здравствуй, небо голубое!\n",
        "Стали пташки щебетать,\n",
        "За букашками летать.\n",
        "Стали зайки\n",
        "На лужайке\n",
        "Кувыркаться и скакать.\n",
        "И глядите: медвежата,\n",
        "Как весёлые котята,\n",
        "Прямо к дедушке мохнатому,\n",
        "Толстопятые, бегут:\n",
        "«Здравствуй, дедушка, мы тут!»\n",
        "Рады зайчики и белочки,\n",
        "Рады мальчики и девочки,\n",
        "Обнимают и целуют косолапого:\n",
        "«Ну, спасибо тебе, дедушка, за солнышко!»''']\n",
        "\n",
        "text2 = ''.join(w for w in text[0] if w not in string.punctuation and w not in ['«', '»', '—'])\n",
        "#Проверка\n",
        "#print(text2)"
      ],
      "execution_count": 20,
      "outputs": []
    },
    {
      "cell_type": "code",
      "metadata": {
        "id": "Cq3mKUow4CRe"
      },
      "source": [
        "#Вывод из файла, опциональное лаконичное решение.\n",
        "#f = open('/content/drive/MyDrive/Colab Notebooks/test_ks/stolen_sun_utf8.txt', \"r\", encoding=\"utf-8\")\n",
        "#text3 = f.read().replace('\\xa0', ' ').replace('\\n', ' ')\n",
        "#text4 = ''.join(w for w in text3 if w not in string.punctuation and w not in ['«', '»', '—'])"
      ],
      "execution_count": 21,
      "outputs": []
    },
    {
      "cell_type": "markdown",
      "metadata": {
        "id": "8pvA4yaA6l0L"
      },
      "source": [
        "Преобразуем текст в датафрейм и добавим столбец с количеством букв в каждом слове."
      ]
    },
    {
      "cell_type": "code",
      "metadata": {
        "colab": {
          "base_uri": "https://localhost:8080/",
          "height": 202
        },
        "id": "nU9BEFBCps_v",
        "outputId": "050233ce-06ad-45c5-a869-9819dbdc822a"
      },
      "source": [
        "words = text2.replace('\\n', ' ').split()\n",
        "words = pd.DataFrame(words)\n",
        "words.rename(columns={0: 'words'}, inplace=True)\n",
        "words['len'] = words.apply(lambda x: len(x['words']), axis = 1)\n",
        "words.head()"
      ],
      "execution_count": 22,
      "outputs": [
        {
          "output_type": "execute_result",
          "data": {
            "text/html": [
              "<div>\n",
              "<style scoped>\n",
              "    .dataframe tbody tr th:only-of-type {\n",
              "        vertical-align: middle;\n",
              "    }\n",
              "\n",
              "    .dataframe tbody tr th {\n",
              "        vertical-align: top;\n",
              "    }\n",
              "\n",
              "    .dataframe thead th {\n",
              "        text-align: right;\n",
              "    }\n",
              "</style>\n",
              "<table border=\"1\" class=\"dataframe\">\n",
              "  <thead>\n",
              "    <tr style=\"text-align: right;\">\n",
              "      <th></th>\n",
              "      <th>words</th>\n",
              "      <th>len</th>\n",
              "    </tr>\n",
              "  </thead>\n",
              "  <tbody>\n",
              "    <tr>\n",
              "      <th>0</th>\n",
              "      <td>Солнце</td>\n",
              "      <td>6</td>\n",
              "    </tr>\n",
              "    <tr>\n",
              "      <th>1</th>\n",
              "      <td>по</td>\n",
              "      <td>2</td>\n",
              "    </tr>\n",
              "    <tr>\n",
              "      <th>2</th>\n",
              "      <td>небу</td>\n",
              "      <td>4</td>\n",
              "    </tr>\n",
              "    <tr>\n",
              "      <th>3</th>\n",
              "      <td>гуляло</td>\n",
              "      <td>6</td>\n",
              "    </tr>\n",
              "    <tr>\n",
              "      <th>4</th>\n",
              "      <td>И</td>\n",
              "      <td>1</td>\n",
              "    </tr>\n",
              "  </tbody>\n",
              "</table>\n",
              "</div>"
            ],
            "text/plain": [
              "    words  len\n",
              "0  Солнце    6\n",
              "1      по    2\n",
              "2    небу    4\n",
              "3  гуляло    6\n",
              "4       И    1"
            ]
          },
          "metadata": {},
          "execution_count": 22
        }
      ]
    },
    {
      "cell_type": "markdown",
      "metadata": {
        "id": "XzTpS_Gb6xCP"
      },
      "source": [
        "Построим гистограмму распределения частоты встречающихся в тексте слов определенной длины. На график добавим линию kde, оценку плотности ядра, которая покажет приближенную функцию распределения."
      ]
    },
    {
      "cell_type": "code",
      "metadata": {
        "colab": {
          "base_uri": "https://localhost:8080/",
          "height": 385
        },
        "id": "dRwpP2-mvMeq",
        "outputId": "0139cb73-85d5-4d7f-8738-e9aa7eacb36c"
      },
      "source": [
        "sns.displot(words['len'], kde = True, bins = 12)\n",
        "plt.title('Гистограмма распределения длин слов в произведении \"Краденое солнце\" К.И. Чуковского')\n",
        "plt.xlabel('Количество букв в слове')\n",
        "plt.ylabel('Частота')\n",
        "plt.show()"
      ],
      "execution_count": 23,
      "outputs": [
        {
          "output_type": "display_data",
          "data": {
            "image/png": "[encoded data removed]",
            "text/plain": [
              "<Figure size 360x360 with 1 Axes>"
            ]
          },
          "metadata": {
            "needs_background": "light"
          }
        }
      ]
    },
    {
      "cell_type": "markdown",
      "metadata": {
        "id": "qs2qxcSR-SFL"
      },
      "source": [
        "Ближайшее к полученному теоретическое распределение - распределение Пуассона. Смещение пика гистограммы происходит за счет активного использования предлогов, союзов и междометий в русском языке. Для частотного смыслового анализа их необходимо будет исключить."
      ]
    },
    {
      "cell_type": "markdown",
      "metadata": {
        "id": "2AoXkmVRRw4Z"
      },
      "source": [
        "## Задача №2. На сайте Яндекс.Погода взять данные по погоде днем на ближайшие 16 дней и построить для этого временного ряда быстрое преобразование Фурье. Что можно сказать об этом преобразовании?"
      ]
    },
    {
      "cell_type": "markdown",
      "metadata": {
        "id": "g9SBFUkXR94d"
      },
      "source": [
        "API Яндекс-Погоды не позволяет бесплатно получать долгосрочный прогноз. Воспользуемся открытыми данными с ресурса <code>[gridforecast.com](http://gridforecast.com)</code>. Он позволяет получить ссылку на ежедневный прогноз на 16 дней. "
      ]
    },
    {
      "cell_type": "code",
      "metadata": {
        "id": "1lyFvFxG-R9E"
      },
      "source": [
        "import requests\n",
        "#from bs4 import BeautifulSoup\n",
        "import json\n",
        "import re\n",
        "from datetime import timedelta, date"
      ],
      "execution_count": 24,
      "outputs": []
    },
    {
      "cell_type": "markdown",
      "metadata": {
        "id": "jv6VwHCoU-fj"
      },
      "source": [
        ""
      ]
    },
    {
      "cell_type": "code",
      "metadata": {
        "colab": {
          "base_uri": "https://localhost:8080/"
        },
        "id": "kVD_FXxjPUOt",
        "outputId": "b7de027d-0da0-4254-d058-6116404cab26"
      },
      "source": [
        "def daterange(start_date, end_date):\n",
        "    for n in range(int ((end_date - start_date).days)):\n",
        "        yield start_date + timedelta(n)\n",
        "\n",
        "start_date = date(2021, 10, 11)\n",
        "end_date = date(2021, 10, 27)\n",
        "dates = []\n",
        "for single_date in daterange(start_date, end_date):\n",
        "  dates.append(single_date.strftime(\"%Y%m%d\"))\n",
        "dates"
      ],
      "execution_count": 25,
      "outputs": [
        {
          "output_type": "execute_result",
          "data": {
            "text/plain": [
              "['20211011',\n",
              " '20211012',\n",
              " '20211013',\n",
              " '20211014',\n",
              " '20211015',\n",
              " '20211016',\n",
              " '20211017',\n",
              " '20211018',\n",
              " '20211019',\n",
              " '20211020',\n",
              " '20211021',\n",
              " '20211022',\n",
              " '20211023',\n",
              " '20211024',\n",
              " '20211025',\n",
              " '20211026']"
            ]
          },
          "metadata": {},
          "execution_count": 25
        }
      ]
    },
    {
      "cell_type": "code",
      "metadata": {
        "colab": {
          "base_uri": "https://localhost:8080/"
        },
        "id": "HPUhnDOLEkAa",
        "outputId": "b5cb595d-26dd-4758-d503-6745187e84fb"
      },
      "source": [
        "urls = []\n",
        "for i in dates:\n",
        "  date_url = 'https://gridforecast.com/api/v1/forecast/55.7434;37.6144/' + i + '1200?api_token=aMbLqamCYeMSYJF5'\n",
        "  urls.append(date_url)\n",
        "urls"
      ],
      "execution_count": 26,
      "outputs": [
        {
          "output_type": "execute_result",
          "data": {
            "text/plain": [
              "['https://gridforecast.com/api/v1/forecast/55.7434;37.6144/202110111200?api_token=aMbLqamCYeMSYJF5',\n",
              " 'https://gridforecast.com/api/v1/forecast/55.7434;37.6144/202110121200?api_token=aMbLqamCYeMSYJF5',\n",
              " 'https://gridforecast.com/api/v1/forecast/55.7434;37.6144/202110131200?api_token=aMbLqamCYeMSYJF5',\n",
              " 'https://gridforecast.com/api/v1/forecast/55.7434;37.6144/202110141200?api_token=aMbLqamCYeMSYJF5',\n",
              " 'https://gridforecast.com/api/v1/forecast/55.7434;37.6144/202110151200?api_token=aMbLqamCYeMSYJF5',\n",
              " 'https://gridforecast.com/api/v1/forecast/55.7434;37.6144/202110161200?api_token=aMbLqamCYeMSYJF5',\n",
              " 'https://gridforecast.com/api/v1/forecast/55.7434;37.6144/202110171200?api_token=aMbLqamCYeMSYJF5',\n",
              " 'https://gridforecast.com/api/v1/forecast/55.7434;37.6144/202110181200?api_token=aMbLqamCYeMSYJF5',\n",
              " 'https://gridforecast.com/api/v1/forecast/55.7434;37.6144/202110191200?api_token=aMbLqamCYeMSYJF5',\n",
              " 'https://gridforecast.com/api/v1/forecast/55.7434;37.6144/202110201200?api_token=aMbLqamCYeMSYJF5',\n",
              " 'https://gridforecast.com/api/v1/forecast/55.7434;37.6144/202110211200?api_token=aMbLqamCYeMSYJF5',\n",
              " 'https://gridforecast.com/api/v1/forecast/55.7434;37.6144/202110221200?api_token=aMbLqamCYeMSYJF5',\n",
              " 'https://gridforecast.com/api/v1/forecast/55.7434;37.6144/202110231200?api_token=aMbLqamCYeMSYJF5',\n",
              " 'https://gridforecast.com/api/v1/forecast/55.7434;37.6144/202110241200?api_token=aMbLqamCYeMSYJF5',\n",
              " 'https://gridforecast.com/api/v1/forecast/55.7434;37.6144/202110251200?api_token=aMbLqamCYeMSYJF5',\n",
              " 'https://gridforecast.com/api/v1/forecast/55.7434;37.6144/202110261200?api_token=aMbLqamCYeMSYJF5']"
            ]
          },
          "metadata": {},
          "execution_count": 26
        }
      ]
    },
    {
      "cell_type": "code",
      "metadata": {
        "id": "i-9ZoGkW8otg"
      },
      "source": [
        "temp = []\n",
        "for i in urls:\n",
        "  req = requests.get(i)\n",
        "  req.encoding = 'utf-8'\n",
        "  x = req.text\n",
        "  y = json.loads(x)\n",
        "  temp.append(int(y['t']))\n"
      ],
      "execution_count": 27,
      "outputs": []
    },
    {
      "cell_type": "code",
      "metadata": {
        "colab": {
          "base_uri": "https://localhost:8080/",
          "height": 539
        },
        "id": "nSSc6xLbYiYy",
        "outputId": "130691ef-71e2-4768-fd22-1c782885ea2c"
      },
      "source": [
        "data = pd.DataFrame(dates, columns = ['date'])\n",
        "data['temp'] = temp\n",
        "data"
      ],
      "execution_count": 28,
      "outputs": [
        {
          "output_type": "execute_result",
          "data": {
            "text/html": [
              "<div>\n",
              "<style scoped>\n",
              "    .dataframe tbody tr th:only-of-type {\n",
              "        vertical-align: middle;\n",
              "    }\n",
              "\n",
              "    .dataframe tbody tr th {\n",
              "        vertical-align: top;\n",
              "    }\n",
              "\n",
              "    .dataframe thead th {\n",
              "        text-align: right;\n",
              "    }\n",
              "</style>\n",
              "<table border=\"1\" class=\"dataframe\">\n",
              "  <thead>\n",
              "    <tr style=\"text-align: right;\">\n",
              "      <th></th>\n",
              "      <th>date</th>\n",
              "      <th>temp</th>\n",
              "    </tr>\n",
              "  </thead>\n",
              "  <tbody>\n",
              "    <tr>\n",
              "      <th>0</th>\n",
              "      <td>20211011</td>\n",
              "      <td>11</td>\n",
              "    </tr>\n",
              "    <tr>\n",
              "      <th>1</th>\n",
              "      <td>20211012</td>\n",
              "      <td>12</td>\n",
              "    </tr>\n",
              "    <tr>\n",
              "      <th>2</th>\n",
              "      <td>20211013</td>\n",
              "      <td>11</td>\n",
              "    </tr>\n",
              "    <tr>\n",
              "      <th>3</th>\n",
              "      <td>20211014</td>\n",
              "      <td>9</td>\n",
              "    </tr>\n",
              "    <tr>\n",
              "      <th>4</th>\n",
              "      <td>20211015</td>\n",
              "      <td>9</td>\n",
              "    </tr>\n",
              "    <tr>\n",
              "      <th>5</th>\n",
              "      <td>20211016</td>\n",
              "      <td>9</td>\n",
              "    </tr>\n",
              "    <tr>\n",
              "      <th>6</th>\n",
              "      <td>20211017</td>\n",
              "      <td>11</td>\n",
              "    </tr>\n",
              "    <tr>\n",
              "      <th>7</th>\n",
              "      <td>20211018</td>\n",
              "      <td>3</td>\n",
              "    </tr>\n",
              "    <tr>\n",
              "      <th>8</th>\n",
              "      <td>20211019</td>\n",
              "      <td>3</td>\n",
              "    </tr>\n",
              "    <tr>\n",
              "      <th>9</th>\n",
              "      <td>20211020</td>\n",
              "      <td>5</td>\n",
              "    </tr>\n",
              "    <tr>\n",
              "      <th>10</th>\n",
              "      <td>20211021</td>\n",
              "      <td>8</td>\n",
              "    </tr>\n",
              "    <tr>\n",
              "      <th>11</th>\n",
              "      <td>20211022</td>\n",
              "      <td>5</td>\n",
              "    </tr>\n",
              "    <tr>\n",
              "      <th>12</th>\n",
              "      <td>20211023</td>\n",
              "      <td>6</td>\n",
              "    </tr>\n",
              "    <tr>\n",
              "      <th>13</th>\n",
              "      <td>20211024</td>\n",
              "      <td>1</td>\n",
              "    </tr>\n",
              "    <tr>\n",
              "      <th>14</th>\n",
              "      <td>20211025</td>\n",
              "      <td>4</td>\n",
              "    </tr>\n",
              "    <tr>\n",
              "      <th>15</th>\n",
              "      <td>20211026</td>\n",
              "      <td>5</td>\n",
              "    </tr>\n",
              "  </tbody>\n",
              "</table>\n",
              "</div>"
            ],
            "text/plain": [
              "        date  temp\n",
              "0   20211011    11\n",
              "1   20211012    12\n",
              "2   20211013    11\n",
              "3   20211014     9\n",
              "4   20211015     9\n",
              "5   20211016     9\n",
              "6   20211017    11\n",
              "7   20211018     3\n",
              "8   20211019     3\n",
              "9   20211020     5\n",
              "10  20211021     8\n",
              "11  20211022     5\n",
              "12  20211023     6\n",
              "13  20211024     1\n",
              "14  20211025     4\n",
              "15  20211026     5"
            ]
          },
          "metadata": {},
          "execution_count": 28
        }
      ]
    },
    {
      "cell_type": "code",
      "metadata": {
        "id": "sftpPNj6e1-r"
      },
      "source": [
        "#Строим БПФ для дискретного ряда с помощью модуля библиотеки numpy.\n",
        "X = np.fft.rfft(data['temp'])\n",
        "#Проверка, обратное преобразование\n",
        "#X_inverse = np.fft.irfft(X)"
      ],
      "execution_count": 29,
      "outputs": []
    },
    {
      "cell_type": "code",
      "metadata": {
        "colab": {
          "base_uri": "https://localhost:8080/",
          "height": 606
        },
        "id": "lOPwjSIje7kc",
        "outputId": "480d09d5-6003-442d-8ecd-db160b8ad088"
      },
      "source": [
        "#Строим график динамики дневных температур на основе исходных данных\n",
        "data.plot(x = 'date', y = 'temp', marker = 'X')\n",
        "plt.title('Динамика дневных температур в Москве (период 11.10.21-26.10.21)')\n",
        "plt.grid(True)\n",
        "plt.xlabel('Дата')\n",
        "plt.xticks(rotation = 45)\n",
        "plt.ylabel('Температура, С')\n",
        "plt.show()\n",
        "#График на основе БПФ симметричен, выводим только левую часть. На графике будут отображены накопленные значения.\n",
        "plt.plot(abs(X))\n",
        "plt.title('Амплитуда колебаний дневных температур в Москве (период 11.10.21-26.10.21)')\n",
        "plt.grid(True)\n",
        "#\"Обрезаем\" нулевую частоту для коррктного отображения графика\n",
        "plt.xlim(1,8)\n",
        "plt.ylim(0,25)\n",
        "plt.xlabel('Счетчик')\n",
        "plt.ylabel('Амплитуда, С')\n",
        "plt.show()\n",
        "#Проверка, график обратного преобразования\n",
        "#plt.plot(abs(X_inverse))\n",
        "#plt.title('Восстановленная функция динамики дневных температур в Москве (период 11.10.21-26.10.21)')\n",
        "#plt.grid(True)\n",
        "#plt.xlabel('Дата')\n",
        "#plt.ylabel('Температура, С')\n",
        "#plt.show()\n"
      ],
      "execution_count": 30,
      "outputs": [
        {
          "output_type": "display_data",
          "data": {
            "image/png": "[encoded data removed]",
            "text/plain": [
              "<Figure size 432x288 with 1 Axes>"
            ]
          },
          "metadata": {
            "needs_background": "light"
          }
        },
        {
          "output_type": "display_data",
          "data": {
            "image/png": "[encoded data removed]",
            "text/plain": [
              "<Figure size 432x288 with 1 Axes>"
            ]
          },
          "metadata": {
            "needs_background": "light"
          }
        }
      ]
    },
    {
      "cell_type": "markdown",
      "metadata": {
        "id": "9Ip-R43l-bKE"
      },
      "source": [
        "График амплитуды колебаний дневных температур, полученный на основе БПФ, не очень информативен из-за малого количества наблюдений. В любом случае он показывает, что с увеличением количества наблюдений амплитуда сокращается (но из-за последнего скачка температуры от 1 к 4-5 градусам опять немного растет)."
      ]
    },
    {
      "cell_type": "code",
      "metadata": {
        "id": "hRodOUpVeVwj"
      },
      "source": [
        "#Тестовые данные на случай \"падения\" погодного ресурса\n",
        "#data_temp = pd.DataFrame(dates, columns = ['date'])\n",
        "#data_temp['temp'] = ['10', '12', '14', '8', '2', '5', '8', '4', '1', '8', '6', '5', '9', '9', '6', '2']\n",
        "#data_temp['temp'] = data_temp['temp'].astype(int)\n",
        "#data_temp"
      ],
      "execution_count": 31,
      "outputs": []
    },
    {
      "cell_type": "markdown",
      "metadata": {
        "id": "rkqgbxBOHxHJ"
      },
      "source": [
        "## Задача №3. Для того же ряда (из п. 2) построить приближение методом наименьших квадратов из класса прямых и из класса экспонент."
      ]
    },
    {
      "cell_type": "markdown",
      "metadata": {
        "id": "9fTJ6HSVf7k3"
      },
      "source": [
        "### Линейная аппроксимация методом наименьших квадратов"
      ]
    },
    {
      "cell_type": "code",
      "metadata": {
        "id": "jQIfcrEDIqtU"
      },
      "source": [
        "#Добавлям столбец со значениями индексов в качестве счетчика х\n",
        "data = data.reset_index()\n",
        "data['index'] = data['index'] +1"
      ],
      "execution_count": 32,
      "outputs": []
    },
    {
      "cell_type": "code",
      "metadata": {
        "colab": {
          "base_uri": "https://localhost:8080/",
          "height": 295
        },
        "id": "PcIKP90hIO_L",
        "outputId": "0c370d61-a83f-4b87-dd65-e5ea677c9e0a"
      },
      "source": [
        "# С помощью метода polyfit создаем линейный тренд методом МНК (степень 1 в параметрах)\n",
        "fit = np.polyfit(data['index'], data['temp'], 1)\n",
        "#Создаем нужный полином\n",
        "fit_function = np.poly1d(fit)\n",
        "#график исходных данных\n",
        "plt.plot(data['temp'])\n",
        "plt.title('Тренд динамики температуры (МНК, линейная аппроксимация)')\n",
        "plt.grid(True)\n",
        "plt.xlabel('День')\n",
        "plt.ylabel('Температура, С')\n",
        "#график линейной аппроксимации\n",
        "plt.plot(fit_function(data['index']))\n",
        "plt.show()"
      ],
      "execution_count": 33,
      "outputs": [
        {
          "output_type": "display_data",
          "data": {
            "image/png": "[encoded data removed]",
            "text/plain": [
              "<Figure size 432x288 with 1 Axes>"
            ]
          },
          "metadata": {
            "needs_background": "light"
          }
        }
      ]
    },
    {
      "cell_type": "code",
      "metadata": {
        "colab": {
          "base_uri": "https://localhost:8080/"
        },
        "id": "Q-uyuo0Ya3S8",
        "outputId": "30ee7d52-7c54-4730-b856-09694d02a2c9"
      },
      "source": [
        "print('Метод линейной аппроксимации по исходным данным предсказывает, что на Новый год будет {:.0f} градусов.'.format(fit_function(81)))"
      ],
      "execution_count": 34,
      "outputs": [
        {
          "output_type": "stream",
          "name": "stdout",
          "text": [
            "Метод линейной аппроксимации по исходным данным предсказывает, что на Новый год будет -34 градусов.\n"
          ]
        }
      ]
    },
    {
      "cell_type": "markdown",
      "metadata": {
        "id": "Nv5hJ1lmgFxY"
      },
      "source": [
        "### Экспоненциальная аппроксимация методом наименьших квадратов"
      ]
    },
    {
      "cell_type": "code",
      "metadata": {
        "colab": {
          "base_uri": "https://localhost:8080/",
          "height": 295
        },
        "id": "eezrPElTTHxV",
        "outputId": "819ec633-cd09-43bc-b902-6537415c176e"
      },
      "source": [
        "#Для экспоненциальной аппроксимации готового метода нет. Воспользуемся \"подгонкой\" вида функции с помощью curve_fit\n",
        "from scipy.optimize import curve_fit\n",
        "#подбор коэффициентов для функции аппроксимации\n",
        "[a, b], res1 = curve_fit(lambda x1,a,b: a*np.exp(b*x1),  data['index'],  data['temp'])\n",
        "y1 = a * np.exp(b * data['index'])\n",
        "# Исходный график\n",
        "plt.plot(data['index'], data['temp'])\n",
        "plt.title('Тренд динамики температуры (экспоненциальная аппроксимация)')\n",
        "plt.grid(True)\n",
        "plt.xlabel('День')\n",
        "plt.ylabel('Температура, С')\n",
        "# График экспоненциального тренда\n",
        "plt.plot(data['index'], y1)\n",
        "plt.show()"
      ],
      "execution_count": 35,
      "outputs": [
        {
          "output_type": "display_data",
          "data": {
            "image/png": "[encoded data removed]",
            "text/plain": [
              "<Figure size 432x288 with 1 Axes>"
            ]
          },
          "metadata": {
            "needs_background": "light"
          }
        }
      ]
    },
    {
      "cell_type": "code",
      "metadata": {
        "colab": {
          "base_uri": "https://localhost:8080/"
        },
        "id": "VeOauViVbsKt",
        "outputId": "b1ca5847-e4be-4069-dfda-92387a4a92f7"
      },
      "source": [
        "print('Метод экспоненциальной аппроксимации по исходным данным предсказывает, что на Новый год будет {:.0f} градусов.'.format(a * np.exp(b * 81)))"
      ],
      "execution_count": 36,
      "outputs": [
        {
          "output_type": "stream",
          "name": "stdout",
          "text": [
            "Метод экспоненциальной аппроксимации по исходным данным предсказывает, что на Новый год будет 0 градусов.\n"
          ]
        }
      ]
    },
    {
      "cell_type": "markdown",
      "metadata": {
        "id": "slegrPX6hGBL"
      },
      "source": [
        "Сложно сказать, какой прогноз ближе к реальности - слишком короткий период наблюдений взят нами за основу. Для долгосрочных предсказаний эти тренды использовать нельзя."
      ]
    }
  ]
}